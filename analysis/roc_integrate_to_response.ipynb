{
 "cells": [
  {
   "cell_type": "code",
   "execution_count": 1,
   "metadata": {},
   "outputs": [
    {
     "name": "stderr",
     "output_type": "stream",
     "text": [
      "/tmp/ipykernel_1541549/3997886365.py:31: SettingWithCopyWarning: \n",
      "A value is trying to be set on a copy of a slice from a DataFrame\n",
      "\n",
      "See the caveats in the documentation: https://pandas.pydata.org/pandas-docs/stable/user_guide/indexing.html#returning-a-view-versus-a-copy\n",
      "  df['key'][df['key'] == '[5]'] = 1\n",
      "/tmp/ipykernel_1541549/3997886365.py:32: SettingWithCopyWarning: \n",
      "A value is trying to be set on a copy of a slice from a DataFrame\n",
      "\n",
      "See the caveats in the documentation: https://pandas.pydata.org/pandas-docs/stable/user_guide/indexing.html#returning-a-view-versus-a-copy\n",
      "  df['key'][df['key'] == '[3]'] = 1\n",
      "/tmp/ipykernel_1541549/3997886365.py:33: SettingWithCopyWarning: \n",
      "A value is trying to be set on a copy of a slice from a DataFrame\n",
      "\n",
      "See the caveats in the documentation: https://pandas.pydata.org/pandas-docs/stable/user_guide/indexing.html#returning-a-view-versus-a-copy\n",
      "  df['key'][df['key'] == '[2]'] = 0\n"
     ]
    }
   ],
   "source": [
    "import hdf5storage\n",
    "import os\n",
    "import pandas as pd\n",
    "import numpy as np\n",
    "import matplotlib as mpl\n",
    "import matplotlib.pyplot as plt\n",
    "\n",
    "import seaborn as sns\n",
    "'''this script concate each block per subject to a file wihthin subject called s103_df_concat.csv'''\n",
    "\n",
    "'''subsequently save a concatenante file under rechain-beh called all_df_concat.csv '''\n",
    "# global setting f\n",
    "plt.rcParams.update({\"font.size\": 18})\n",
    "colors = sns.color_palette(\"deep\")\n",
    "sns.set(style=\"whitegrid\")\n",
    "# top level dir \n",
    "# \n",
    "\n",
    "PROJECT_DIR = \"/data/rwchain-all/round2\"\n",
    "BEH_DIR = os.path.join(PROJECT_DIR, \"rwchain-beh/data\")\n",
    "EEG_DIR = os.path.join(PROJECT_DIR, \"rwchain-eeg\")\n",
    "ALL_BEH_DIR = os.path.join(PROJECT_DIR, 'rwchain-beh', 'combined')\n",
    "\n",
    "list_of_subj = os.listdir(BEH_DIR)\n",
    "list_of_subj.sort()\n",
    "# list_of_subj = [list_of_subj[5]]\n",
    "\n",
    "df = pd.read_pickle(os.path.join(ALL_BEH_DIR, 'all_df_concat.pkl'))\n",
    "# organize some columsn\n",
    " \n",
    "df['key'][df['key'] == '[5]'] = 1\n",
    "df['key'][df['key'] == '[3]'] = 1\n",
    "df['key'][df['key'] == '[2]'] = 0\n",
    "df['cumsum'] = df['sequence_clean'].apply(lambda x: [sum(x[:i+1]) for i in range(len(x))])\n",
    "\n",
    "df = df[df['count'] >=3]\n",
    "df = df[df['stimDur'] != 0.5]\n",
    "df = df[df['stimDur'] != 0.05]\n",
    "cumsum = np.array(df['cumsum'].to_list())\n",
    "sequence =  np.array(df['sequence_clean'].to_list())\n",
    "count = df['count'].to_numpy()"
   ]
  },
  {
   "cell_type": "code",
   "execution_count": 2,
   "metadata": {},
   "outputs": [
    {
     "data": {
      "text/html": [
       "<div>\n",
       "<style scoped>\n",
       "    .dataframe tbody tr th:only-of-type {\n",
       "        vertical-align: middle;\n",
       "    }\n",
       "\n",
       "    .dataframe tbody tr th {\n",
       "        vertical-align: top;\n",
       "    }\n",
       "\n",
       "    .dataframe thead th {\n",
       "        text-align: right;\n",
       "    }\n",
       "</style>\n",
       "<table border=\"1\" class=\"dataframe\">\n",
       "  <thead>\n",
       "    <tr style=\"text-align: right;\">\n",
       "      <th></th>\n",
       "      <th>time</th>\n",
       "      <th>bytetime</th>\n",
       "      <th>press</th>\n",
       "      <th>count</th>\n",
       "      <th>key</th>\n",
       "      <th>stimDur</th>\n",
       "      <th>Bias</th>\n",
       "      <th>sequence</th>\n",
       "      <th>block</th>\n",
       "      <th>sequence_clean</th>\n",
       "      <th>sid</th>\n",
       "      <th>cumsum</th>\n",
       "    </tr>\n",
       "  </thead>\n",
       "  <tbody>\n",
       "    <tr>\n",
       "      <th>0</th>\n",
       "      <td>2.6166679859161377</td>\n",
       "      <td>2611</td>\n",
       "      <td>[1]</td>\n",
       "      <td>10</td>\n",
       "      <td>0</td>\n",
       "      <td>0.25</td>\n",
       "      <td>0.12</td>\n",
       "      <td>[-1.  1. -1.  1. -1.  1. -1. -1. -1. -1. -1.  ...</td>\n",
       "      <td>0</td>\n",
       "      <td>[-1.0, 1.0, -1.0, 1.0, -1.0, 1.0, -1.0, -1.0, ...</td>\n",
       "      <td>s102</td>\n",
       "      <td>[-1.0, 0.0, -1.0, 0.0, -1.0, 0.0, -1.0, -2.0, ...</td>\n",
       "    </tr>\n",
       "    <tr>\n",
       "      <th>1</th>\n",
       "      <td>2.2499890327453613</td>\n",
       "      <td>2233</td>\n",
       "      <td>[1]</td>\n",
       "      <td>8</td>\n",
       "      <td>1</td>\n",
       "      <td>0.25</td>\n",
       "      <td>0.12</td>\n",
       "      <td>[-1. -1. -1.  1.  1.  1.  1.  1. -1. -1. -1. -...</td>\n",
       "      <td>0</td>\n",
       "      <td>[-1.0, -1.0, -1.0, 1.0, 1.0, 1.0, 1.0, 1.0, -1...</td>\n",
       "      <td>s102</td>\n",
       "      <td>[-1.0, -2.0, -3.0, -2.0, -1.0, 0.0, 1.0, 2.0, ...</td>\n",
       "    </tr>\n",
       "    <tr>\n",
       "      <th>2</th>\n",
       "      <td>2.1333320140838623</td>\n",
       "      <td>2118</td>\n",
       "      <td>[1]</td>\n",
       "      <td>8</td>\n",
       "      <td>0</td>\n",
       "      <td>0.25</td>\n",
       "      <td>0.12</td>\n",
       "      <td>[ 1. -1. -1. -1.  1.  1. -1. -1. -1. -1.  1.  ...</td>\n",
       "      <td>0</td>\n",
       "      <td>[1.0, -1.0, -1.0, -1.0, 1.0, 1.0, -1.0, -1.0, ...</td>\n",
       "      <td>s102</td>\n",
       "      <td>[1.0, 0.0, -1.0, -2.0, -1.0, 0.0, -1.0, -2.0, ...</td>\n",
       "    </tr>\n",
       "    <tr>\n",
       "      <th>3</th>\n",
       "      <td>1.2833738327026367</td>\n",
       "      <td>1270</td>\n",
       "      <td>[1]</td>\n",
       "      <td>5</td>\n",
       "      <td>1</td>\n",
       "      <td>0.25</td>\n",
       "      <td>0.12</td>\n",
       "      <td>[ 1.  1.  1.  1. -1.  1.  1. -1. -1. -1.  1. -...</td>\n",
       "      <td>0</td>\n",
       "      <td>[1.0, 1.0, 1.0, 1.0, -1.0, 1.0, 1.0, -1.0, -1....</td>\n",
       "      <td>s102</td>\n",
       "      <td>[1.0, 2.0, 3.0, 4.0, 3.0, 4.0, 5.0, 4.0, 3.0, ...</td>\n",
       "    </tr>\n",
       "    <tr>\n",
       "      <th>4</th>\n",
       "      <td>2.3333139419555664</td>\n",
       "      <td>2318</td>\n",
       "      <td>[1]</td>\n",
       "      <td>9</td>\n",
       "      <td>1</td>\n",
       "      <td>0.25</td>\n",
       "      <td>0.12</td>\n",
       "      <td>[-1.  1. -1.  1.  1. -1.  1.  1.  1. -1. -1. -...</td>\n",
       "      <td>0</td>\n",
       "      <td>[-1.0, 1.0, -1.0, 1.0, 1.0, -1.0, 1.0, 1.0, 1....</td>\n",
       "      <td>s102</td>\n",
       "      <td>[-1.0, 0.0, -1.0, 0.0, 1.0, 0.0, 1.0, 2.0, 3.0...</td>\n",
       "    </tr>\n",
       "  </tbody>\n",
       "</table>\n",
       "</div>"
      ],
      "text/plain": [
       "                 time bytetime press  count key  stimDur  Bias  \\\n",
       "0  2.6166679859161377     2611   [1]     10   0     0.25  0.12   \n",
       "1  2.2499890327453613     2233   [1]      8   1     0.25  0.12   \n",
       "2  2.1333320140838623     2118   [1]      8   0     0.25  0.12   \n",
       "3  1.2833738327026367     1270   [1]      5   1     0.25  0.12   \n",
       "4  2.3333139419555664     2318   [1]      9   1     0.25  0.12   \n",
       "\n",
       "                                            sequence  block  \\\n",
       "0  [-1.  1. -1.  1. -1.  1. -1. -1. -1. -1. -1.  ...      0   \n",
       "1  [-1. -1. -1.  1.  1.  1.  1.  1. -1. -1. -1. -...      0   \n",
       "2  [ 1. -1. -1. -1.  1.  1. -1. -1. -1. -1.  1.  ...      0   \n",
       "3  [ 1.  1.  1.  1. -1.  1.  1. -1. -1. -1.  1. -...      0   \n",
       "4  [-1.  1. -1.  1.  1. -1.  1.  1.  1. -1. -1. -...      0   \n",
       "\n",
       "                                      sequence_clean   sid  \\\n",
       "0  [-1.0, 1.0, -1.0, 1.0, -1.0, 1.0, -1.0, -1.0, ...  s102   \n",
       "1  [-1.0, -1.0, -1.0, 1.0, 1.0, 1.0, 1.0, 1.0, -1...  s102   \n",
       "2  [1.0, -1.0, -1.0, -1.0, 1.0, 1.0, -1.0, -1.0, ...  s102   \n",
       "3  [1.0, 1.0, 1.0, 1.0, -1.0, 1.0, 1.0, -1.0, -1....  s102   \n",
       "4  [-1.0, 1.0, -1.0, 1.0, 1.0, -1.0, 1.0, 1.0, 1....  s102   \n",
       "\n",
       "                                              cumsum  \n",
       "0  [-1.0, 0.0, -1.0, 0.0, -1.0, 0.0, -1.0, -2.0, ...  \n",
       "1  [-1.0, -2.0, -3.0, -2.0, -1.0, 0.0, 1.0, 2.0, ...  \n",
       "2  [1.0, 0.0, -1.0, -2.0, -1.0, 0.0, -1.0, -2.0, ...  \n",
       "3  [1.0, 2.0, 3.0, 4.0, 3.0, 4.0, 5.0, 4.0, 3.0, ...  \n",
       "4  [-1.0, 0.0, -1.0, 0.0, 1.0, 0.0, 1.0, 2.0, 3.0...  "
      ]
     },
     "execution_count": 2,
     "metadata": {},
     "output_type": "execute_result"
    }
   ],
   "source": [
    "df.head()\n"
   ]
  },
  {
   "cell_type": "code",
   "execution_count": 8,
   "metadata": {},
   "outputs": [],
   "source": [
    "\n",
    "# calculate terminated chains\n",
    "cumsum_stop_list = []\n",
    "binary_seq_all = np.zeros_like(cumsum)\n",
    "binary_seq_all.fill(np.nan)\n",
    "for c in range(cumsum.shape[0]):\n",
    "    binary_seq_all[c, : int(count[c])] = sequence[c, : int(count[c])]\n",
    "    cumsum_stop = cumsum[\n",
    "        c, : int(count[c])\n",
    "    ]  # for example, if rt adjusted i 708, for 250ms, one have seen 3 stimulus.\n",
    "    cumsum_stop_list.append(cumsum_stop)\n",
    " \n",
    "# count number of NaNs for each chain\n",
    "nancount = np.isnan(binary_seq_all).sum(axis=1)\n",
    "    \n"
   ]
  },
  {
   "cell_type": "code",
   "execution_count": 152,
   "metadata": {},
   "outputs": [
    {
     "data": {
      "text/plain": [
       "array([False,  True, False, False, False])"
      ]
     },
     "execution_count": 152,
     "metadata": {},
     "output_type": "execute_result"
    }
   ],
   "source": [
    "dataset_resp[30:35]"
   ]
  },
  {
   "cell_type": "code",
   "execution_count": 157,
   "metadata": {},
   "outputs": [
    {
     "data": {
      "text/plain": [
       "nan"
      ]
     },
     "execution_count": 157,
     "metadata": {},
     "output_type": "execute_result"
    }
   ],
   "source": [
    " binary_seq_all[count>=num_of_samples, :][31][29]"
   ]
  },
  {
   "cell_type": "code",
   "execution_count": 158,
   "metadata": {},
   "outputs": [
    {
     "data": {
      "text/plain": [
       "615"
      ]
     },
     "execution_count": 158,
     "metadata": {},
     "output_type": "execute_result"
    }
   ],
   "source": [
    "sum(count==30)"
   ]
  },
  {
   "cell_type": "code",
   "execution_count": 290,
   "metadata": {},
   "outputs": [],
   "source": [
    "# \n",
    "num_of_samples =  10\n",
    "\n",
    "\n",
    "\n",
    "dataset = binary_seq_all[count>=num_of_samples, :]\n",
    "dataset_resp = np.isnan(\n",
    "    dataset[:, num_of_samples]\n",
    ")  # True means they stopped, false means they kept going\n",
    "dataset = dataset[:, :num_of_samples]\n"
   ]
  },
  {
   "cell_type": "code",
   "execution_count": 291,
   "metadata": {},
   "outputs": [
    {
     "name": "stdout",
     "output_type": "stream",
     "text": [
      "4013\n"
     ]
    }
   ],
   "source": [
    "# size of the samples \n",
    "print(len(dataset))"
   ]
  },
  {
   "cell_type": "code",
   "execution_count": 292,
   "metadata": {},
   "outputs": [
    {
     "data": {
      "text/plain": [
       "0.10416147520558186"
      ]
     },
     "execution_count": 292,
     "metadata": {},
     "output_type": "execute_result"
    }
   ],
   "source": [
    "# percentage of termination\n",
    "dataset_resp.sum() / len(dataset)"
   ]
  },
  {
   "cell_type": "code",
   "execution_count": 293,
   "metadata": {},
   "outputs": [],
   "source": [
    "# building the classifier\n",
    "\n",
    "from sklearn.model_selection import train_test_split\n",
    "from sklearn import metrics\n",
    "from sklearn.metrics import confusion_matrix, ConfusionMatrixDisplay\n",
    "\n",
    "\n",
    "\n",
    "x_train, x_test, y_train, y_test = train_test_split(\n",
    "    dataset, dataset_resp, test_size=0.3, random_state=1\n",
    ")"
   ]
  },
  {
   "cell_type": "code",
   "execution_count": 294,
   "metadata": {},
   "outputs": [],
   "source": [
    "def sigmoid(x, alpha=0.2, beta=0):\n",
    "    return 1 / (1 + np.exp(-(alpha*x - beta)))\n",
    "\n",
    "def sigmoid_0(x):\n",
    "    return 1 / (1 + np.exp(-x))\n",
    "\n",
    "\n",
    "def get_abs_evidence(x):\n",
    "    return np.abs(x.cumsum(axis=1))"
   ]
  },
  {
   "cell_type": "code",
   "execution_count": 295,
   "metadata": {},
   "outputs": [],
   "source": [
    "# tune different coefficient of sigmoid\n",
    "x_train_evidence = get_abs_evidence(x_train)[:,-1]\n",
    "x_test_evidence = get_abs_evidence(x_test)[:,-1]"
   ]
  },
  {
   "cell_type": "code",
   "execution_count": 296,
   "metadata": {},
   "outputs": [
    {
     "name": "stdout",
     "output_type": "stream",
     "text": [
      "0.5580902383266485\n",
      "0.596084311105948\n"
     ]
    }
   ],
   "source": [
    "# plot roc\n",
    "\n",
    "\n",
    "y_pred_prob_train = sigmoid(x_train_evidence)\n",
    "\n",
    "\n",
    "y_pred_prob_test = sigmoid(x_test_evidence)\n",
    "\n",
    "fpr_train, tpr_train, _ = metrics.roc_curve(y_train, y_pred_prob_train)\n",
    "fpr_test, tpr_test, _ = metrics.roc_curve(y_test, y_pred_prob_test)\n",
    "auc_train = metrics.auc(fpr_train, tpr_train)\n",
    "auc_test = metrics.auc(fpr_test, tpr_test)\n",
    "print(auc_train)\n",
    "print(auc_test)\n",
    "\n"
   ]
  },
  {
   "cell_type": "code",
   "execution_count": 297,
   "metadata": {},
   "outputs": [
    {
     "data": {
      "text/plain": [
       "array([0.59868766, 0.5       , 0.83201839, ..., 0.59868766, 0.59868766,\n",
       "       0.5       ])"
      ]
     },
     "execution_count": 297,
     "metadata": {},
     "output_type": "execute_result"
    }
   ],
   "source": [
    "y_pred_prob_test"
   ]
  },
  {
   "cell_type": "code",
   "execution_count": 299,
   "metadata": {},
   "outputs": [
    {
     "name": "stdout",
     "output_type": "stream",
     "text": [
      "0.596084311105948\n"
     ]
    },
    {
     "data": {
      "image/png": "[encoded data removed]",
      "text/plain": [
       "<Figure size 640x480 with 1 Axes>"
      ]
     },
     "metadata": {},
     "output_type": "display_data"
    }
   ],
   "source": [
    "fpr, tpr, thresh = metrics.roc_curve(y_test, y_pred_prob_test)\n",
    "# fpr, tpr, thresh = metrics.roc_curve(y_train, y_pred_prob_train)\n",
    "\n",
    "roc_auc = metrics.auc(fpr, tpr)\n",
    "print(roc_auc)\n",
    "fpr\n",
    "display = metrics.RocCurveDisplay(\n",
    "    fpr=fpr, tpr=tpr, roc_auc=roc_auc, estimator_name=\"best_estimator\"\n",
    ")\n",
    "display.plot()\n",
    "plt.plot(np.linspace(0, 1), np.linspace(0, 1), \"--\", alpha=0.5)\n",
    "plt.show()"
   ]
  },
  {
   "cell_type": "code",
   "execution_count": null,
   "metadata": {},
   "outputs": [],
   "source": []
  },
  {
   "cell_type": "code",
   "execution_count": null,
   "metadata": {},
   "outputs": [],
   "source": []
  },
  {
   "cell_type": "code",
   "execution_count": null,
   "metadata": {},
   "outputs": [],
   "source": []
  }
 ],
 "metadata": {
  "kernelspec": {
   "display_name": "echain",
   "language": "python",
   "name": "python3"
  },
  "language_info": {
   "codemirror_mode": {
    "name": "ipython",
    "version": 3
   },
   "file_extension": ".py",
   "mimetype": "text/x-python",
   "name": "python",
   "nbconvert_exporter": "python",
   "pygments_lexer": "ipython3",
   "version": "3.11.5"
  }
 },
 "nbformat": 4,
 "nbformat_minor": 2
}
