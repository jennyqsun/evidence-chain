{
 "cells": [
  {
   "cell_type": "code",
   "execution_count": 1100,
   "metadata": {},
   "outputs": [],
   "source": [
    "import hdf5storage\n",
    "import os\n",
    "import pandas as pd\n",
    "import numpy as np\n",
    "import matplotlib as mpl\n",
    "import matplotlib.pyplot as plt\n",
    "from analysis_util import *\n",
    "from sklearn.model_selection import train_test_split\n",
    "from sklearn import metrics\n",
    "\n",
    "\n",
    "import seaborn as sns\n",
    "'''this script test out given the exact same chain, how often do people behave exactly the same '''\n",
    "# global setting f\n",
    "plt.rcParams.update({\"font.size\": 18})\n",
    "colors = sns.color_palette(\"deep\")\n",
    "sns.set(style=\"whitegrid\")\n",
    "# top level dir \n",
    "# \n",
    "\n",
    "\n"
   ]
  },
  {
   "cell_type": "code",
   "execution_count": 1101,
   "metadata": {},
   "outputs": [],
   "source": [
    "\n",
    "PROJECT_DIR = \"/data/rwchain-all/round2\"\n",
    "BEH_DIR = os.path.join(PROJECT_DIR, \"rwchain-beh/data\")\n",
    "EEG_DIR = os.path.join(PROJECT_DIR, \"rwchain-eeg\")\n",
    "ALL_BEH_DIR = os.path.join(PROJECT_DIR, 'rwchain-beh', 'combined')\n"
   ]
  },
  {
   "cell_type": "code",
   "execution_count": 1102,
   "metadata": {},
   "outputs": [
    {
     "name": "stderr",
     "output_type": "stream",
     "text": [
      "/tmp/ipykernel_529267/3093361133.py:8: SettingWithCopyWarning: \n",
      "A value is trying to be set on a copy of a slice from a DataFrame\n",
      "\n",
      "See the caveats in the documentation: https://pandas.pydata.org/pandas-docs/stable/user_guide/indexing.html#returning-a-view-versus-a-copy\n",
      "  df['key'][df['key'] == '[5]'] = 1\n",
      "/tmp/ipykernel_529267/3093361133.py:9: SettingWithCopyWarning: \n",
      "A value is trying to be set on a copy of a slice from a DataFrame\n",
      "\n",
      "See the caveats in the documentation: https://pandas.pydata.org/pandas-docs/stable/user_guide/indexing.html#returning-a-view-versus-a-copy\n",
      "  df['key'][df['key'] == '[3]'] = 1\n",
      "/tmp/ipykernel_529267/3093361133.py:10: SettingWithCopyWarning: \n",
      "A value is trying to be set on a copy of a slice from a DataFrame\n",
      "\n",
      "See the caveats in the documentation: https://pandas.pydata.org/pandas-docs/stable/user_guide/indexing.html#returning-a-view-versus-a-copy\n",
      "  df['key'][df['key'] == '[2]'] = 0\n"
     ]
    }
   ],
   "source": [
    "\n",
    "list_of_subj = os.listdir(BEH_DIR)\n",
    "list_of_subj.sort()\n",
    "# list_of_subj = [list_of_subj[5]]\n",
    "\n",
    "df = pd.read_pickle(os.path.join(ALL_BEH_DIR, 'all_df_concat.pkl'))\n",
    "# organize some columsn\n",
    " \n",
    "df['key'][df['key'] == '[5]'] = 1\n",
    "df['key'][df['key'] == '[3]'] = 1\n",
    "df['key'][df['key'] == '[2]'] = 0\n",
    "df['cumsum'] = df['sequence_clean'].apply(lambda x: [sum(x[:i+1]) for i in range(len(x))])\n",
    "\n",
    "# get rid of a ;pw acc subject\n",
    "df = df[df['sid']!='s108']\n",
    "df = df[df['sid']=='s112']\n",
    "\n",
    "\n",
    "# df = df[df['stimDur'] != 0.5]\n",
    "# df = df[df['stimDur'] != 0.05]\n",
    "df = df[df['stimDur'] == 0.1]\n",
    "# df = df[df['stimDur'] == 0.25]"
   ]
  },
  {
   "cell_type": "code",
   "execution_count": 1103,
   "metadata": {},
   "outputs": [],
   "source": [
    "# correct the count\n",
    "df = correct_samples_by_condition(df)\n",
    "\n",
    "cumsum = np.array(df['cumsum'].to_list())\n",
    "sequence =  np.array(df['sequence_clean'].to_list())\n",
    "count = df['count_corrected'].to_numpy()"
   ]
  },
  {
   "cell_type": "code",
   "execution_count": 1104,
   "metadata": {},
   "outputs": [
    {
     "data": {
      "text/plain": [
       "(400, 13)"
      ]
     },
     "execution_count": 1104,
     "metadata": {},
     "output_type": "execute_result"
    }
   ],
   "source": [
    "df.shape"
   ]
  },
  {
   "cell_type": "code",
   "execution_count": 1105,
   "metadata": {},
   "outputs": [
    {
     "data": {
      "text/plain": [
       "26"
      ]
     },
     "execution_count": 1105,
     "metadata": {},
     "output_type": "execute_result"
    }
   ],
   "source": [
    "count.max()"
   ]
  },
  {
   "cell_type": "code",
   "execution_count": 1106,
   "metadata": {},
   "outputs": [],
   "source": [
    "chain_length = 8"
   ]
  },
  {
   "cell_type": "code",
   "execution_count": 1107,
   "metadata": {},
   "outputs": [],
   "source": [
    "# create a matrix of +1 and -1 with NaNs if the chain terminates\n",
    "\n",
    "chain_matrix = get_chain_matrix(sequence, count)\n"
   ]
  },
  {
   "cell_type": "code",
   "execution_count": 1108,
   "metadata": {},
   "outputs": [
    {
     "data": {
      "text/plain": [
       "(400, 30)"
      ]
     },
     "execution_count": 1108,
     "metadata": {},
     "output_type": "execute_result"
    }
   ],
   "source": [
    "chain_matrix.shape"
   ]
  },
  {
   "cell_type": "code",
   "execution_count": 1109,
   "metadata": {},
   "outputs": [],
   "source": [
    "dataset, dataset_resp = make_dataset(chain_length, count, chain_matrix)\n"
   ]
  },
  {
   "cell_type": "code",
   "execution_count": 1110,
   "metadata": {},
   "outputs": [],
   "source": [
    "    x_train, x_test, y_train, y_test = train_test_split(\n",
    "        dataset, dataset_resp, test_size=0.3, random_state=2024\n",
    "    )"
   ]
  },
  {
   "cell_type": "code",
   "execution_count": 1111,
   "metadata": {},
   "outputs": [],
   "source": [
    "# x_train_evidence = get_abs_evidence(x_train)\n",
    "# x_test_evidence = get_abs_evidence(x_test)"
   ]
  },
  {
   "cell_type": "code",
   "execution_count": 1112,
   "metadata": {},
   "outputs": [],
   "source": [
    "x_train_evidence = get_evidence(x_train)\n",
    "x_test_evidence =  get_evidence(x_test)"
   ]
  },
  {
   "cell_type": "code",
   "execution_count": 1113,
   "metadata": {},
   "outputs": [],
   "source": [
    "import numpy as np\n",
    "from collections import defaultdict\n",
    "def find_unique_vectors_and_indices(vectors):\n",
    "    # Convert list of vectors to a numpy array\n",
    "    vectors_array = np.array(vectors)\n",
    "    unique_dict = defaultdict(lambda: {\"indices\": [], \"count\": 0})\n",
    "\n",
    "    for index, vector in enumerate(vectors_array):\n",
    "        vector_tuple = tuple(vector)\n",
    "        unique_dict[vector_tuple][\"indices\"].append(index)\n",
    "        unique_dict[vector_tuple][\"count\"] += 1\n",
    "\n",
    "    unique_vectors = [np.array(key) for key in unique_dict.keys()]\n",
    "    unique_indices = [value[\"indices\"] for value in unique_dict.values()]\n",
    "    unique_counts = [value[\"count\"] for value in unique_dict.values()]\n",
    "\n",
    "    # return unique_vectors, unique_indices, unique_counts\n",
    "\n",
    "    return unique_dict, unique_vectors, unique_indices, unique_counts\n",
    "\n"
   ]
  },
  {
   "cell_type": "code",
   "execution_count": 1114,
   "metadata": {},
   "outputs": [],
   "source": [
    "unique_dict, unique_vectors, unique_indices, unique_counts = find_unique_vectors_and_indices(x_train_evidence)"
   ]
  },
  {
   "cell_type": "code",
   "execution_count": 1115,
   "metadata": {},
   "outputs": [],
   "source": [
    "    combined = sorted(\n",
    "        zip(unique_vectors, unique_indices, unique_counts),\n",
    "        key=lambda x: x[2],\n",
    "        reverse=True\n",
    "    )\n",
    "unique_vectors_sorted, unique_indices_sorted, unique_counts_sorted = zip(*combined)"
   ]
  },
  {
   "cell_type": "code",
   "execution_count": 1116,
   "metadata": {},
   "outputs": [
    {
     "data": {
      "text/plain": [
       "79"
      ]
     },
     "execution_count": 1116,
     "metadata": {},
     "output_type": "execute_result"
    }
   ],
   "source": [
    "len(unique_vectors_sorted)"
   ]
  },
  {
   "cell_type": "code",
   "execution_count": 1117,
   "metadata": {},
   "outputs": [],
   "source": [
    "ind = 0"
   ]
  },
  {
   "cell_type": "code",
   "execution_count": 1118,
   "metadata": {},
   "outputs": [
    {
     "data": {
      "text/plain": [
       "79"
      ]
     },
     "execution_count": 1118,
     "metadata": {},
     "output_type": "execute_result"
    }
   ],
   "source": [
    "len(unique_indices_sorted)"
   ]
  },
  {
   "cell_type": "code",
   "execution_count": 1119,
   "metadata": {},
   "outputs": [
    {
     "name": "stdout",
     "output_type": "stream",
     "text": [
      "2\n"
     ]
    }
   ],
   "source": [
    "## theoreicalyhow many should we get?\n",
    "stopped = dataset_resp[np.array(unique_indices_sorted[ind])].sum()\n",
    "print(stopped)"
   ]
  },
  {
   "cell_type": "code",
   "execution_count": 1120,
   "metadata": {},
   "outputs": [
    {
     "name": "stdout",
     "output_type": "stream",
     "text": [
      "(4,)\n"
     ]
    }
   ],
   "source": [
    "continued = dataset_resp[np.array(unique_indices_sorted[ind])].shape\n",
    "print(continued)"
   ]
  },
  {
   "cell_type": "code",
   "execution_count": 1121,
   "metadata": {},
   "outputs": [
    {
     "name": "stdout",
     "output_type": "stream",
     "text": [
      "[0.5]\n"
     ]
    }
   ],
   "source": [
    "percentage = stopped / continued\n",
    "print(percentage)"
   ]
  },
  {
   "cell_type": "code",
   "execution_count": 1122,
   "metadata": {},
   "outputs": [
    {
     "data": {
      "text/plain": [
       "array([ True, False,  True, False, False, False, False, False,  True,\n",
       "        True, False, False,  True, False, False, False, False, False,\n",
       "       False, False, False,  True, False, False, False, False, False,\n",
       "       False, False, False, False, False, False, False,  True, False,\n",
       "       False, False, False, False, False,  True, False, False, False,\n",
       "        True, False, False,  True, False, False, False, False, False,\n",
       "       False, False, False,  True, False,  True,  True, False, False,\n",
       "       False, False, False, False,  True, False, False, False, False,\n",
       "        True, False, False,  True,  True, False, False, False, False,\n",
       "       False, False,  True, False, False, False, False, False, False,\n",
       "        True,  True, False, False, False, False, False, False, False,\n",
       "        True, False, False, False, False, False])"
      ]
     },
     "execution_count": 1122,
     "metadata": {},
     "output_type": "execute_result"
    }
   ],
   "source": [
    "y_train"
   ]
  },
  {
   "cell_type": "code",
   "execution_count": 1128,
   "metadata": {},
   "outputs": [
    {
     "data": {
      "text/plain": [
       "[<matplotlib.lines.Line2D at 0x7f40a735e5d0>]"
      ]
     },
     "execution_count": 1128,
     "metadata": {},
     "output_type": "execute_result"
    },
    {
     "data": {
      "image/png": "[encoded data removed]",
      "text/plain": [
       "<Figure size 640x480 with 1 Axes>"
      ]
     },
     "metadata": {},
     "output_type": "display_data"
    }
   ],
   "source": [
    "plt.plot(unique_vectors_sorted[11])"
   ]
  },
  {
   "cell_type": "code",
   "execution_count": 1124,
   "metadata": {},
   "outputs": [
    {
     "name": "stdout",
     "output_type": "stream",
     "text": [
      "0\n",
      "[0.75]\n",
      "1\n",
      "[0.33333333]\n",
      "2\n",
      "[0.]\n",
      "3\n",
      "[0.]\n",
      "4\n",
      "[0.33333333]\n",
      "5\n",
      "[0.5]\n",
      "6\n",
      "[0.]\n",
      "7\n",
      "[0.5]\n",
      "8\n",
      "[0.]\n",
      "9\n",
      "[0.]\n",
      "10\n",
      "[0.]\n",
      "11\n",
      "[1.]\n",
      "12\n",
      "[0.]\n",
      "13\n",
      "[0.]\n",
      "14\n",
      "[0.5]\n",
      "15\n",
      "[0.]\n",
      "16\n",
      "[0.5]\n",
      "17\n",
      "[0.]\n",
      "18\n",
      "[0.]\n",
      "19\n",
      "[0.]\n",
      "20\n",
      "[0.]\n",
      "21\n",
      "[0.]\n",
      "22\n",
      "[0.]\n",
      "23\n",
      "[1.]\n",
      "24\n",
      "[0.]\n",
      "25\n",
      "[1.]\n",
      "26\n",
      "[0.]\n",
      "27\n",
      "[0.]\n",
      "28\n",
      "[0.]\n",
      "29\n",
      "[0.]\n"
     ]
    },
    {
     "data": {
      "text/plain": [
       "<matplotlib.legend.Legend at 0x7f40ac2a4090>"
      ]
     },
     "execution_count": 1124,
     "metadata": {},
     "output_type": "execute_result"
    },
    {
     "data": {
      "image/png": "[encoded data removed]",
      "text/plain": [
       "<Figure size 640x480 with 1 Axes>"
      ]
     },
     "metadata": {},
     "output_type": "display_data"
    }
   ],
   "source": [
    "end_ind = len(unique_vectors_sorted)\n",
    "end_ind = 30\n",
    "STOP=0\n",
    "ALL=0\n",
    "my_labels =['termination', 'continuation']\n",
    "\n",
    "for ind in np.arange(0,end_ind):\n",
    "    stopped = y_train[np.array(unique_indices_sorted[ind])].sum()\n",
    "    all = y_train[np.array(unique_indices_sorted[ind])].shape\n",
    "    percentage = stopped / all\n",
    "    STOP = STOP + stopped\n",
    "    ALL = ALL + all[0]\n",
    "    plt.bar(ind, all, color = 'grey', alpha=0.8, label=my_labels[0])\n",
    "    plt.bar(ind, stopped, color= 'orange', alpha=0.8,label=my_labels[1])\n",
    "\n",
    "    my_labels = ['__nolabels__']*2\n",
    "    plt.xlabel(\"From most to least frequent unique chain\")\n",
    "    print(ind)\n",
    "    print(percentage)\n",
    "plt.legend()"
   ]
  },
  {
   "cell_type": "code",
   "execution_count": 1125,
   "metadata": {},
   "outputs": [
    {
     "data": {
      "text/plain": [
       "0.23214285714285715"
      ]
     },
     "execution_count": 1125,
     "metadata": {},
     "output_type": "execute_result"
    }
   ],
   "source": [
    "STOP/ ALL"
   ]
  },
  {
   "cell_type": "code",
   "execution_count": 1126,
   "metadata": {},
   "outputs": [
    {
     "data": {
      "text/plain": [
       "(4,)"
      ]
     },
     "execution_count": 1126,
     "metadata": {},
     "output_type": "execute_result"
    }
   ],
   "source": [
    "dataset_resp[np.array(unique_indices_sorted[0])].shape"
   ]
  },
  {
   "cell_type": "code",
   "execution_count": 1127,
   "metadata": {},
   "outputs": [
    {
     "data": {
      "text/plain": [
       "array([-1.,  0., -1.,  0.,  1.,  2.,  3.,  4.,  5.])"
      ]
     },
     "execution_count": 1127,
     "metadata": {},
     "output_type": "execute_result"
    }
   ],
   "source": [
    "unique_vectors_sorted[0]"
   ]
  },
  {
   "cell_type": "code",
   "execution_count": null,
   "metadata": {},
   "outputs": [],
   "source": []
  },
  {
   "cell_type": "code",
   "execution_count": null,
   "metadata": {},
   "outputs": [],
   "source": []
  },
  {
   "cell_type": "code",
   "execution_count": null,
   "metadata": {},
   "outputs": [],
   "source": []
  },
  {
   "cell_type": "code",
   "execution_count": null,
   "metadata": {},
   "outputs": [],
   "source": []
  },
  {
   "cell_type": "code",
   "execution_count": null,
   "metadata": {},
   "outputs": [],
   "source": []
  },
  {
   "cell_type": "code",
   "execution_count": null,
   "metadata": {},
   "outputs": [],
   "source": []
  },
  {
   "cell_type": "code",
   "execution_count": null,
   "metadata": {},
   "outputs": [],
   "source": []
  },
  {
   "cell_type": "code",
   "execution_count": null,
   "metadata": {},
   "outputs": [],
   "source": []
  },
  {
   "cell_type": "code",
   "execution_count": null,
   "metadata": {},
   "outputs": [],
   "source": []
  },
  {
   "cell_type": "code",
   "execution_count": null,
   "metadata": {},
   "outputs": [],
   "source": []
  },
  {
   "cell_type": "code",
   "execution_count": null,
   "metadata": {},
   "outputs": [],
   "source": []
  },
  {
   "cell_type": "code",
   "execution_count": null,
   "metadata": {},
   "outputs": [],
   "source": []
  },
  {
   "cell_type": "code",
   "execution_count": null,
   "metadata": {},
   "outputs": [],
   "source": []
  },
  {
   "cell_type": "code",
   "execution_count": null,
   "metadata": {},
   "outputs": [],
   "source": []
  }
 ],
 "metadata": {
  "kernelspec": {
   "display_name": "echain",
   "language": "python",
   "name": "python3"
  },
  "language_info": {
   "codemirror_mode": {
    "name": "ipython",
    "version": 3
   },
   "file_extension": ".py",
   "mimetype": "text/x-python",
   "name": "python",
   "nbconvert_exporter": "python",
   "pygments_lexer": "ipython3",
   "version": "3.11.5"
  }
 },
 "nbformat": 4,
 "nbformat_minor": 2
}
