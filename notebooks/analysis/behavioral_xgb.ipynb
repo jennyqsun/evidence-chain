{
 "cells": [
  {
   "cell_type": "code",
   "execution_count": 1,
   "metadata": {},
   "outputs": [
    {
     "data": {
      "text/html": [
       "\n",
       "                <script type=\"application/javascript\" id=\"jupyter_black\">\n",
       "                (function() {\n",
       "                    if (window.IPython === undefined) {\n",
       "                        return\n",
       "                    }\n",
       "                    var msg = \"WARNING: it looks like you might have loaded \" +\n",
       "                        \"jupyter_black in a non-lab notebook with \" +\n",
       "                        \"`is_lab=True`. Please double check, and if \" +\n",
       "                        \"loading with `%load_ext` please review the README!\"\n",
       "                    console.log(msg)\n",
       "                    alert(msg)\n",
       "                })()\n",
       "                </script>\n",
       "                "
      ],
      "text/plain": [
       "<IPython.core.display.HTML object>"
      ]
     },
     "metadata": {},
     "output_type": "display_data"
    }
   ],
   "source": [
    "# Created on 11/11/22 at 2:57 PM\n",
    "\n",
    "\n",
    "\"\"\"\n",
    "this script uses xgb as a classifier to predict various output\n",
    "\n",
    "\n",
    "\"\"\"\n",
    "\n",
    "# %%\n",
    "\n",
    "import jupyter_black\n",
    "\n",
    "\n",
    "jupyter_black.load()\n",
    "import sys\n",
    "import numpy as np\n",
    "import matplotlib\n",
    "from matplotlib import pyplot as plt\n",
    "from matplotlib import interactive\n",
    "\n",
    "\n",
    "interactive(True)\n",
    "import pandas as pd\n",
    "import numpy as np\n",
    "import os\n",
    "import hdf5storage\n",
    "import random\n",
    "from sklearn.metrics import r2_score\n",
    "import pickle\n",
    "import matplotlib\n",
    "from matplotlib.gridspec import GridSpec\n",
    "from scipy.io import savemat\n",
    "import shutil\n",
    "import os\n",
    "from configparser import ConfigParser\n",
    "from sklearn.metrics import confusion_matrix, ConfusionMatrixDisplay\n",
    "import seaborn as sns\n",
    "import time\n",
    "\n",
    "from matplotlib.ticker import MaxNLocator\n",
    "import matplotlib.patches as mpatches\n",
    "import timeop\n",
    "\n",
    "plt.rcParams.update({\"font.size\": 18})\n",
    "colors = sns.color_palette(\"deep\")\n",
    "sns.set(style=\"whitegrid\")\n",
    "# local pacakges"
   ]
  },
  {
   "cell_type": "code",
   "execution_count": null,
   "metadata": {
    "tags": []
   },
   "outputs": [],
   "source": []
  },
  {
   "cell_type": "code",
   "execution_count": 2,
   "metadata": {},
   "outputs": [
    {
     "name": "stdout",
     "output_type": "stream",
     "text": [
      "100\n",
      "250\n",
      "50\n",
      "500\n"
     ]
    }
   ],
   "source": [
    "# load data\n",
    "\n",
    "\n",
    "def loadsubjdict(fnames):\n",
    "    datadict = hdf5storage.loadmat(fnames)\n",
    "    return datadict\n",
    "\n",
    "\n",
    "masktrial = []\n",
    "respall = []\n",
    "sequenceall = np.empty((0, 30))\n",
    "rtall = []\n",
    "sidall = []\n",
    "Count = []\n",
    "\n",
    "for cond in [100, 250, 50, 500]:\n",
    "    print(cond)\n",
    "\n",
    "    projectdir = \"/home/jenny/evidence-chain/\"\n",
    "    filename = \"/ssd/rwchain-all/round2/rwchain-beh/combined/all_\" + str(cond) + \".mat\"\n",
    "    datadict = hdf5storage.loadmat(filename)\n",
    "\n",
    "    masktrial.extend(datadict[\"masktrial\"])\n",
    "    respall.extend(datadict[\"resp\"])\n",
    "    sequenceall = np.vstack((sequenceall, datadict[\"sequence\"]))\n",
    "    rtall.extend(datadict[\"rt\"])\n",
    "    rtadjusted = datadict[\"rt\"] - 300\n",
    "    count = np.zeros_like(datadict[\"rt\"])\n",
    "    val, m = divmod(rtadjusted, cond)\n",
    "    count[m == 0] = val[m == 0]  # it's exacly at the onset of the new stimulus,\n",
    "    # we say they made a decisiona after seeing th previous ones\n",
    "    count[m > 0] = val[m > 0] + 1  # count is the last display that would count\n",
    "    # count =3 means they have seen display 0, 1, 2.\n",
    "\n",
    "    count[count >= 30] = 30\n",
    "    Count.extend(count)\n",
    "    sidall.extend(datadict[\"sidall\"])"
   ]
  },
  {
   "cell_type": "code",
   "execution_count": 4,
   "metadata": {},
   "outputs": [
    {
     "data": {
      "text/plain": [
       "array([0., 1., 2., 3.])"
      ]
     },
     "execution_count": 4,
     "metadata": {},
     "output_type": "execute_result"
    }
   ],
   "source": [
    "np.unique(sidall)"
   ]
  },
  {
   "cell_type": "code",
   "execution_count": 10,
   "metadata": {},
   "outputs": [],
   "source": [
    "masktrial = np.array(masktrial)\n",
    "respall = np.array(respall)\n",
    "# sequenceall = np.array(sequenceall)\n",
    "rtall = np.array(rtall)\n",
    "sidall = np.array(sidall)"
   ]
  },
  {
   "cell_type": "code",
   "execution_count": 11,
   "metadata": {},
   "outputs": [
    {
     "data": {
      "text/plain": [
       "(4234, 30)"
      ]
     },
     "execution_count": 11,
     "metadata": {},
     "output_type": "execute_result"
    }
   ],
   "source": [
    "sequenceall.shape"
   ]
  },
  {
   "cell_type": "code",
   "execution_count": 80,
   "metadata": {},
   "outputs": [],
   "source": [
    "cumsum = np.cumsum(sequenceall, axis=1)\n",
    "\n",
    "\n",
    "# calculate first occurence of max evidene\n",
    "maxval = []\n",
    "maxind = []\n",
    "sequence_stopAll = []\n",
    "bound = []\n",
    "boundind = []\n",
    "nummax = []\n",
    "binary_seq_all = np.zeros_like(cumsum)\n",
    "binary_seq_all.fill(np.nan)\n",
    "for c in range(cumsum.shape[0]):\n",
    "    binary_seq_all[c, : int(Count[c])] = sequenceall[c, : int(Count[c])]\n",
    "    sequence_stop = cumsum[\n",
    "        c, : int(Count[c])\n",
    "    ]  # for example, if rt adjusted i 708, for 250ms, one have seen 3 stimulus.\n",
    "    sequence_stopAll.append(sequence_stop)\n",
    "    bound.append(sequence_stop[-1])\n",
    "    boundind.append(len(sequence_stop) - 1)\n",
    "    maxindtrial = np.where(np.abs(sequence_stop) == np.max(abs(sequence_stop)))[0]\n",
    "    maxind.append(maxindtrial)\n",
    "    maxval.append(sequence_stop[maxindtrial])\n",
    "    nummax.append(len(maxindtrial))"
   ]
  },
  {
   "cell_type": "code",
   "execution_count": 13,
   "metadata": {},
   "outputs": [],
   "source": [
    "nancount = np.isnan(binary_seq_all).sum(axis=1)"
   ]
  },
  {
   "cell_type": "code",
   "execution_count": 25,
   "metadata": {},
   "outputs": [
    {
     "data": {
      "text/plain": [
       "Text(0, 0.5, 'Number of Trials')"
      ]
     },
     "execution_count": 25,
     "metadata": {},
     "output_type": "execute_result"
    },
    {
     "data": {
      "image/png": "[encoded data removed]",
      "text/plain": [
       "<Figure size 640x480 with 1 Axes>"
      ]
     },
     "metadata": {},
     "output_type": "display_data"
    }
   ],
   "source": [
    "nTrials = []\n",
    "for t in range(0, 30):\n",
    "    threshold = t\n",
    "\n",
    "    dataset = binary_seq_all[nancount == 30 - threshold, :]\n",
    "    dataset_resp = respall[nancount == 30 - threshold]\n",
    "    dataset_resp[dataset_resp == -1] = 0\n",
    "    dataset = dataset[:, 0:threshold]\n",
    "    nTrials.append(dataset.shape[0])\n",
    "plt.plot(np.arange(1, 31), np.array(nTrials), \"o-\")\n",
    "plt.xlabel(\"Position at Response\")\n",
    "plt.ylabel(\"Number of Trials\")"
   ]
  },
  {
   "cell_type": "code",
   "execution_count": null,
   "metadata": {},
   "outputs": [],
   "source": []
  },
  {
   "cell_type": "code",
   "execution_count": 53,
   "metadata": {},
   "outputs": [
    {
     "data": {
      "text/plain": [
       "(433, 5)"
      ]
     },
     "execution_count": 53,
     "metadata": {},
     "output_type": "execute_result"
    }
   ],
   "source": [
    "threshold = 5\n",
    "\n",
    "dataset = binary_seq_all[nancount == 30 - threshold, :]\n",
    "dataset_resp = respall[nancount == 30 - threshold]\n",
    "dataset_resp[dataset_resp == -1] = 0\n",
    "dataset = dataset[:, 0:threshold]\n",
    "dataset.shape"
   ]
  },
  {
   "cell_type": "code",
   "execution_count": 54,
   "metadata": {},
   "outputs": [
    {
     "data": {
      "text/plain": [
       "array([-1., -1., -1., -1., -1.])"
      ]
     },
     "execution_count": 54,
     "metadata": {},
     "output_type": "execute_result"
    }
   ],
   "source": [
    "dataset[0, :]"
   ]
  },
  {
   "cell_type": "code",
   "execution_count": 55,
   "metadata": {},
   "outputs": [
    {
     "data": {
      "text/plain": [
       "(4234, 30)"
      ]
     },
     "execution_count": 55,
     "metadata": {},
     "output_type": "execute_result"
    }
   ],
   "source": [
    "binary_seq_all.shape"
   ]
  },
  {
   "cell_type": "code",
   "execution_count": 56,
   "metadata": {},
   "outputs": [],
   "source": [
    "from xgboost import XGBClassifier\n",
    "from sklearn.model_selection import train_test_split"
   ]
  },
  {
   "cell_type": "code",
   "execution_count": 57,
   "metadata": {},
   "outputs": [],
   "source": [
    "# model_type=\"truth\"\n",
    "# if model_type ==  \"truth\":\n",
    "#     dataset_resp = dataset.sum(axis=1) >0"
   ]
  },
  {
   "cell_type": "code",
   "execution_count": 58,
   "metadata": {},
   "outputs": [],
   "source": [
    "model_type = \"continue\"\n",
    "if model_type == \"continue\":\n",
    "    dataset = binary_seq_all[nancount <= 30 - threshold, :]\n",
    "    dataset_resp = np.isnan(\n",
    "        dataset[:, threshold]\n",
    "    )  # True means they stopped, false means they kept going\n",
    "    dataset = dataset[:, :threshold]"
   ]
  },
  {
   "cell_type": "code",
   "execution_count": 59,
   "metadata": {
    "tags": []
   },
   "outputs": [
    {
     "data": {
      "text/plain": [
       "(3362, 5)"
      ]
     },
     "execution_count": 59,
     "metadata": {},
     "output_type": "execute_result"
    }
   ],
   "source": [
    "dataset.shape"
   ]
  },
  {
   "cell_type": "code",
   "execution_count": 60,
   "metadata": {},
   "outputs": [],
   "source": [
    "# train test val split\n",
    "x_train, x_test, y_train, y_test = train_test_split(\n",
    "    dataset, dataset_resp, test_size=0.2, random_state=1\n",
    ")\n",
    "x_train, x_val, y_train, y_val = train_test_split(\n",
    "    x_train, y_train, test_size=0.25, random_state=1\n",
    ")"
   ]
  },
  {
   "cell_type": "code",
   "execution_count": 61,
   "metadata": {},
   "outputs": [],
   "source": [
    "# A parameter grid for XGBoost\n",
    "\n",
    "from sklearn.model_selection import GridSearchCV\n",
    "import xgboost as xgb\n",
    "\n",
    "# create a dictionary containing the hyperparameters\n",
    "# to tune and the range of values to try\n",
    "PARAMETERS = {\n",
    "    \"subsample\": [0.75, 1],\n",
    "    \"gamma\": [0.5, 1.5, 5],\n",
    "    \"colsample_bytree\": [0.75, 1],\n",
    "    \"max_depth\": [3, 4, 5],\n",
    "    \"min_child_weight\": [1, 5],\n",
    "    #               \"tree_method\":['gpu_hist'],\n",
    "    \"learning_rate\": [0.1, 0.01, 0.05],\n",
    "}\n",
    "\n",
    "\n",
    "# create a validation set which will be used for early stopping\n",
    "eval_set = [(x_val, y_val)]\n",
    "\n",
    "# initialise an XGBoost classifier, set the number of estimators,\n",
    "# evaluation metric & early stopping rounds\n",
    "estimator = xgb.XGBClassifier(\n",
    "    objective=\"binary:logistic\",\n",
    "    n_estimators=100,\n",
    "    seed=42\n",
    "    #                             tree_method = 'gpu_hist',\n",
    "    #                              gpu_id =1\n",
    ")\n",
    "\n",
    "# initialise GridSearchCV model by passing the XGB classifier we\n",
    "# initialised in the last step along with the dictionary of parameters\n",
    "# and values to try. We also set the number of folds to validate over\n",
    "# along with the scoring metic to use\n",
    "grid_search = GridSearchCV(\n",
    "    estimator=estimator,\n",
    "    param_grid=PARAMETERS,\n",
    "    cv=7,\n",
    "    n_jobs=10,\n",
    "    verbose=2,\n",
    "    scoring=\"roc_auc\",\n",
    "    return_train_score=True,\n",
    ")"
   ]
  },
  {
   "cell_type": "code",
   "execution_count": null,
   "metadata": {},
   "outputs": [],
   "source": [
    "# fit model\n",
    "clf = grid_search.fit(\n",
    "    x_train,\n",
    "    y_train,\n",
    "    eval_set=eval_set,\n",
    "    eval_metric=[\"auc\"],\n",
    "    early_stopping_rounds=10,\n",
    "    verbose=1,\n",
    ")\n",
    "\n",
    "# print out the best hyperparameters"
   ]
  },
  {
   "cell_type": "code",
   "execution_count": 82,
   "metadata": {},
   "outputs": [
    {
     "name": "stdout",
     "output_type": "stream",
     "text": [
      "0.6747736086744265 {'colsample_bytree': 0.75, 'gamma': 0.5, 'learning_rate': 0.1, 'max_depth': 3, 'min_child_weight': 1, 'subsample': 0.75}\n",
      "[CV] END colsample_bytree=1, gamma=5, learning_rate=0.05, max_depth=5, min_child_weight=5, subsample=1; total time=   0.0s\n"
     ]
    }
   ],
   "source": [
    "print(clf.best_score_, clf.best_params_)"
   ]
  },
  {
   "cell_type": "code",
   "execution_count": 67,
   "metadata": {},
   "outputs": [],
   "source": [
    "mymodel = clf.best_estimator_"
   ]
  },
  {
   "cell_type": "code",
   "execution_count": 68,
   "metadata": {},
   "outputs": [],
   "source": [
    "eval_set = [(x_train, y_train), (x_val, y_val)]"
   ]
  },
  {
   "cell_type": "code",
   "execution_count": 69,
   "metadata": {},
   "outputs": [
    {
     "data": {
      "text/html": [
       "<style>#sk-container-id-2 {color: black;background-color: white;}#sk-container-id-2 pre{padding: 0;}#sk-container-id-2 div.sk-toggleable {background-color: white;}#sk-container-id-2 label.sk-toggleable__label {cursor: pointer;display: block;width: 100%;margin-bottom: 0;padding: 0.3em;box-sizing: border-box;text-align: center;}#sk-container-id-2 label.sk-toggleable__label-arrow:before {content: \"▸\";float: left;margin-right: 0.25em;color: #696969;}#sk-container-id-2 label.sk-toggleable__label-arrow:hover:before {color: black;}#sk-container-id-2 div.sk-estimator:hover label.sk-toggleable__label-arrow:before {color: black;}#sk-container-id-2 div.sk-toggleable__content {max-height: 0;max-width: 0;overflow: hidden;text-align: left;background-color: #f0f8ff;}#sk-container-id-2 div.sk-toggleable__content pre {margin: 0.2em;color: black;border-radius: 0.25em;background-color: #f0f8ff;}#sk-container-id-2 input.sk-toggleable__control:checked~div.sk-toggleable__content {max-height: 200px;max-width: 100%;overflow: auto;}#sk-container-id-2 input.sk-toggleable__control:checked~label.sk-toggleable__label-arrow:before {content: \"▾\";}#sk-container-id-2 div.sk-estimator input.sk-toggleable__control:checked~label.sk-toggleable__label {background-color: #d4ebff;}#sk-container-id-2 div.sk-label input.sk-toggleable__control:checked~label.sk-toggleable__label {background-color: #d4ebff;}#sk-container-id-2 input.sk-hidden--visually {border: 0;clip: rect(1px 1px 1px 1px);clip: rect(1px, 1px, 1px, 1px);height: 1px;margin: -1px;overflow: hidden;padding: 0;position: absolute;width: 1px;}#sk-container-id-2 div.sk-estimator {font-family: monospace;background-color: #f0f8ff;border: 1px dotted black;border-radius: 0.25em;box-sizing: border-box;margin-bottom: 0.5em;}#sk-container-id-2 div.sk-estimator:hover {background-color: #d4ebff;}#sk-container-id-2 div.sk-parallel-item::after {content: \"\";width: 100%;border-bottom: 1px solid gray;flex-grow: 1;}#sk-container-id-2 div.sk-label:hover label.sk-toggleable__label {background-color: #d4ebff;}#sk-container-id-2 div.sk-serial::before {content: \"\";position: absolute;border-left: 1px solid gray;box-sizing: border-box;top: 0;bottom: 0;left: 50%;z-index: 0;}#sk-container-id-2 div.sk-serial {display: flex;flex-direction: column;align-items: center;background-color: white;padding-right: 0.2em;padding-left: 0.2em;position: relative;}#sk-container-id-2 div.sk-item {position: relative;z-index: 1;}#sk-container-id-2 div.sk-parallel {display: flex;align-items: stretch;justify-content: center;background-color: white;position: relative;}#sk-container-id-2 div.sk-item::before, #sk-container-id-2 div.sk-parallel-item::before {content: \"\";position: absolute;border-left: 1px solid gray;box-sizing: border-box;top: 0;bottom: 0;left: 50%;z-index: -1;}#sk-container-id-2 div.sk-parallel-item {display: flex;flex-direction: column;z-index: 1;position: relative;background-color: white;}#sk-container-id-2 div.sk-parallel-item:first-child::after {align-self: flex-end;width: 50%;}#sk-container-id-2 div.sk-parallel-item:last-child::after {align-self: flex-start;width: 50%;}#sk-container-id-2 div.sk-parallel-item:only-child::after {width: 0;}#sk-container-id-2 div.sk-dashed-wrapped {border: 1px dashed gray;margin: 0 0.4em 0.5em 0.4em;box-sizing: border-box;padding-bottom: 0.4em;background-color: white;}#sk-container-id-2 div.sk-label label {font-family: monospace;font-weight: bold;display: inline-block;line-height: 1.2em;}#sk-container-id-2 div.sk-label-container {text-align: center;}#sk-container-id-2 div.sk-container {/* jupyter's `normalize.less` sets `[hidden] { display: none; }` but bootstrap.min.css set `[hidden] { display: none !important; }` so we also need the `!important` here to be able to override the default hidden behavior on the sphinx rendered scikit-learn.org. See: https://github.com/scikit-learn/scikit-learn/issues/21755 */display: inline-block !important;position: relative;}#sk-container-id-2 div.sk-text-repr-fallback {display: none;}</style><div id=\"sk-container-id-2\" class=\"sk-top-container\"><div class=\"sk-text-repr-fallback\"><pre>XGBClassifier(base_score=None, booster=None, callbacks=None,\n",
       "              colsample_bylevel=None, colsample_bynode=None,\n",
       "              colsample_bytree=0.75, early_stopping_rounds=None,\n",
       "              enable_categorical=False, eval_metric=None, feature_types=None,\n",
       "              gamma=0.5, gpu_id=None, grow_policy=None, importance_type=None,\n",
       "              interaction_constraints=None, learning_rate=0.1, max_bin=None,\n",
       "              max_cat_threshold=None, max_cat_to_onehot=None,\n",
       "              max_delta_step=None, max_depth=3, max_leaves=None,\n",
       "              min_child_weight=1, missing=nan, monotone_constraints=None,\n",
       "              n_estimators=100, n_jobs=None, num_parallel_tree=None,\n",
       "              predictor=None, random_state=None, ...)</pre><b>In a Jupyter environment, please rerun this cell to show the HTML representation or trust the notebook. <br />On GitHub, the HTML representation is unable to render, please try loading this page with nbviewer.org.</b></div><div class=\"sk-container\" hidden><div class=\"sk-item\"><div class=\"sk-estimator sk-toggleable\"><input class=\"sk-toggleable__control sk-hidden--visually\" id=\"sk-estimator-id-2\" type=\"checkbox\" checked><label for=\"sk-estimator-id-2\" class=\"sk-toggleable__label sk-toggleable__label-arrow\">XGBClassifier</label><div class=\"sk-toggleable__content\"><pre>XGBClassifier(base_score=None, booster=None, callbacks=None,\n",
       "              colsample_bylevel=None, colsample_bynode=None,\n",
       "              colsample_bytree=0.75, early_stopping_rounds=None,\n",
       "              enable_categorical=False, eval_metric=None, feature_types=None,\n",
       "              gamma=0.5, gpu_id=None, grow_policy=None, importance_type=None,\n",
       "              interaction_constraints=None, learning_rate=0.1, max_bin=None,\n",
       "              max_cat_threshold=None, max_cat_to_onehot=None,\n",
       "              max_delta_step=None, max_depth=3, max_leaves=None,\n",
       "              min_child_weight=1, missing=nan, monotone_constraints=None,\n",
       "              n_estimators=100, n_jobs=None, num_parallel_tree=None,\n",
       "              predictor=None, random_state=None, ...)</pre></div></div></div></div></div>"
      ],
      "text/plain": [
       "XGBClassifier(base_score=None, booster=None, callbacks=None,\n",
       "              colsample_bylevel=None, colsample_bynode=None,\n",
       "              colsample_bytree=0.75, early_stopping_rounds=None,\n",
       "              enable_categorical=False, eval_metric=None, feature_types=None,\n",
       "              gamma=0.5, gpu_id=None, grow_policy=None, importance_type=None,\n",
       "              interaction_constraints=None, learning_rate=0.1, max_bin=None,\n",
       "              max_cat_threshold=None, max_cat_to_onehot=None,\n",
       "              max_delta_step=None, max_depth=3, max_leaves=None,\n",
       "              min_child_weight=1, missing=nan, monotone_constraints=None,\n",
       "              n_estimators=100, n_jobs=None, num_parallel_tree=None,\n",
       "              predictor=None, random_state=None, ...)"
      ]
     },
     "execution_count": 69,
     "metadata": {},
     "output_type": "execute_result"
    }
   ],
   "source": [
    "mymodel.fit(\n",
    "    x_train,\n",
    "    y_train,\n",
    "    early_stopping_rounds=15,\n",
    "    eval_metric=[\"auc\", \"logloss\"],\n",
    "    eval_set=eval_set,\n",
    "    verbose=False,\n",
    ")"
   ]
  },
  {
   "cell_type": "code",
   "execution_count": 70,
   "metadata": {},
   "outputs": [],
   "source": [
    "from sklearn import metrics\n",
    "from sklearn.metrics import confusion_matrix, ConfusionMatrixDisplay\n",
    "\n",
    "y_pred_prob_train = mymodel.predict_proba(x_train)\n",
    "y_pred_prob_val = mymodel.predict_proba(x_val)\n",
    "\n",
    "y_pred_prob_test = mymodel.predict_proba(x_test)\n",
    "\n",
    "fpr_train, tpr_train, _ = metrics.roc_curve(y_train, y_pred_prob_train[:, 1])\n",
    "fpr_val, tpr_val, _ = metrics.roc_curve(y_val, y_pred_prob_val[:, 1])\n",
    "fpr_test, tpr_test, _ = metrics.roc_curve(y_test, y_pred_prob_test[:, 1])"
   ]
  },
  {
   "cell_type": "code",
   "execution_count": 71,
   "metadata": {},
   "outputs": [],
   "source": [
    "auc_train = metrics.auc(fpr_train, tpr_train)\n",
    "auc_val = metrics.auc(fpr_val, tpr_val)\n",
    "auc_test = metrics.auc(fpr_test, tpr_test)"
   ]
  },
  {
   "cell_type": "code",
   "execution_count": 72,
   "metadata": {},
   "outputs": [
    {
     "name": "stdout",
     "output_type": "stream",
     "text": [
      "0.7153595092292411\n",
      "0.6978749582916249\n",
      "0.6461802802008988\n"
     ]
    }
   ],
   "source": [
    "print(auc_train)\n",
    "\n",
    "print(auc_val)\n",
    "print(auc_test)"
   ]
  },
  {
   "cell_type": "code",
   "execution_count": 73,
   "metadata": {},
   "outputs": [
    {
     "data": {
      "text/plain": [
       "[<matplotlib.lines.Line2D at 0x7ff7e42a6430>]"
      ]
     },
     "execution_count": 73,
     "metadata": {},
     "output_type": "execute_result"
    },
    {
     "data": {
      "image/png": "[encoded data removed]",
      "text/plain": [
       "<Figure size 640x480 with 1 Axes>"
      ]
     },
     "metadata": {},
     "output_type": "display_data"
    }
   ],
   "source": [
    "results = mymodel.evals_result()\n",
    "plt.plot(results[\"validation_0\"][\"logloss\"])\n",
    "plt.plot(results[\"validation_1\"][\"logloss\"])"
   ]
  },
  {
   "cell_type": "code",
   "execution_count": 74,
   "metadata": {},
   "outputs": [
    {
     "data": {
      "text/plain": [
       "(2016, 5)"
      ]
     },
     "execution_count": 74,
     "metadata": {},
     "output_type": "execute_result"
    }
   ],
   "source": [
    "x_train.shape"
   ]
  },
  {
   "cell_type": "code",
   "execution_count": 75,
   "metadata": {},
   "outputs": [],
   "source": [
    "booster: xgb.Booster = mymodel.get_booster()"
   ]
  },
  {
   "cell_type": "code",
   "execution_count": 76,
   "metadata": {},
   "outputs": [
    {
     "data": {
      "text/plain": [
       "<Axes: title={'center': 'Feature importance'}, xlabel='F score', ylabel='Features'>"
      ]
     },
     "execution_count": 76,
     "metadata": {},
     "output_type": "execute_result"
    },
    {
     "data": {
      "image/png": "[encoded data removed]",
      "text/plain": [
       "<Figure size 640x480 with 1 Axes>"
      ]
     },
     "metadata": {},
     "output_type": "display_data"
    }
   ],
   "source": [
    "xgb.plot_importance(booster, grid=True, importance_type=\"weight\")"
   ]
  },
  {
   "cell_type": "code",
   "execution_count": 77,
   "metadata": {},
   "outputs": [
    {
     "name": "stdout",
     "output_type": "stream",
     "text": [
      "0.6461802802008988\n"
     ]
    }
   ],
   "source": [
    "scores = mymodel.predict_proba(x_test)\n",
    "\n",
    "fpr, tpr, thresh = metrics.roc_curve(y_test, scores[:, 1])\n",
    "\n",
    "roc_auc = metrics.auc(fpr, tpr)\n",
    "print(roc_auc)"
   ]
  },
  {
   "cell_type": "code",
   "execution_count": 78,
   "metadata": {
    "tags": []
   },
   "outputs": [
    {
     "data": {
      "text/plain": [
       "array([0.        , 0.03092784, 0.04639175, 0.06357388, 0.08934708,\n",
       "       0.12371134, 0.14261168, 0.1838488 , 0.22164948, 0.24570447,\n",
       "       0.26975945, 0.29725086, 0.32989691, 0.36597938, 0.40549828,\n",
       "       0.43986254, 0.47938144, 0.51202749, 0.54467354, 0.57731959,\n",
       "       0.60652921, 0.63745704, 0.66838488, 0.69931271, 0.71305842,\n",
       "       0.79553265, 0.82302405, 0.85223368, 0.87628866, 0.91580756,\n",
       "       0.95704467, 1.        ])"
      ]
     },
     "execution_count": 78,
     "metadata": {},
     "output_type": "execute_result"
    }
   ],
   "source": [
    "fpr"
   ]
  },
  {
   "cell_type": "code",
   "execution_count": 79,
   "metadata": {},
   "outputs": [
    {
     "data": {
      "image/png": "[encoded data removed]",
      "text/plain": [
       "<Figure size 640x480 with 1 Axes>"
      ]
     },
     "metadata": {},
     "output_type": "display_data"
    }
   ],
   "source": [
    "display = metrics.RocCurveDisplay(\n",
    "    fpr=fpr, tpr=tpr, roc_auc=roc_auc, estimator_name=\"best_estimator\"\n",
    ")\n",
    "display.plot()\n",
    "plt.plot(np.linspace(0, 1), np.linspace(0, 1), \"--\", alpha=0.5)\n",
    "plt.show()"
   ]
  },
  {
   "cell_type": "code",
   "execution_count": 144,
   "metadata": {},
   "outputs": [],
   "source": [
    "from sklearn.inspection import PartialDependenceDisplay"
   ]
  },
  {
   "cell_type": "code",
   "execution_count": 145,
   "metadata": {},
   "outputs": [
    {
     "ename": "NameError",
     "evalue": "name 'mc_clf' is not defined",
     "output_type": "error",
     "traceback": [
      "\u001b[0;31m---------------------------------------------------------------------------\u001b[0m",
      "\u001b[0;31mNameError\u001b[0m                                 Traceback (most recent call last)",
      "Cell \u001b[0;32mIn[145], line 1\u001b[0m\n\u001b[0;32m----> 1\u001b[0m PartialDependenceDisplay\u001b[38;5;241m.\u001b[39mfrom_estimator(\u001b[43mmc_clf\u001b[49m, X, features, target\u001b[38;5;241m=\u001b[39m\u001b[38;5;241m0\u001b[39m)\n",
      "\u001b[0;31mNameError\u001b[0m: name 'mc_clf' is not defined"
     ]
    }
   ],
   "source": [
    "PartialDependenceDisplay.from_estimator(mymodel, x_train, features, target=0)\n"
   ]
  },
  {
   "cell_type": "code",
   "execution_count": null,
   "metadata": {},
   "outputs": [],
   "source": []
  },
  {
   "cell_type": "code",
   "execution_count": null,
   "metadata": {},
   "outputs": [],
   "source": []
  }
 ],
 "metadata": {
  "kernelspec": {
   "display_name": "evidence-chain",
   "language": "python",
   "name": "evidence-chain"
  },
  "language_info": {
   "codemirror_mode": {
    "name": "ipython",
    "version": 3
   },
   "file_extension": ".py",
   "mimetype": "text/x-python",
   "name": "python",
   "nbconvert_exporter": "python",
   "pygments_lexer": "ipython3",
   "version": "3.9.13"
  },
  "vscode": {
   "interpreter": {
    "hash": "f2b2556dd348f1005d6e37a833b38c3d411df0f85a074f2bf91f4004416190ee"
   }
  }
 },
 "nbformat": 4,
 "nbformat_minor": 4
}
