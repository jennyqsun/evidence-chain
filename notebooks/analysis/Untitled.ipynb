{
 "cells": [
  {
   "cell_type": "code",
   "execution_count": 1,
   "id": "c5f4660d-902c-44e6-810a-08e970e53b3d",
   "metadata": {
    "tags": []
   },
   "outputs": [
    {
     "data": {
      "text/html": [
       "\n",
       "                <script type=\"application/javascript\" id=\"jupyter_black\">\n",
       "                (function() {\n",
       "                    if (window.IPython === undefined) {\n",
       "                        return\n",
       "                    }\n",
       "                    var msg = \"WARNING: it looks like you might have loaded \" +\n",
       "                        \"jupyter_black in a non-lab notebook with \" +\n",
       "                        \"`is_lab=True`. Please double check, and if \" +\n",
       "                        \"loading with `%load_ext` please review the README!\"\n",
       "                    console.log(msg)\n",
       "                    alert(msg)\n",
       "                })()\n",
       "                </script>\n",
       "                "
      ],
      "text/plain": [
       "<IPython.core.display.HTML object>"
      ]
     },
     "metadata": {},
     "output_type": "display_data"
    }
   ],
   "source": [
    "print(auc_test)"
   ]
  },
  {
   "cell_type": "code",
   "execution_count": 2,
   "id": "e0bcf36a-9749-4e84-a44d-703738513e6e",
   "metadata": {
    "tags": []
   },
   "outputs": [],
   "source": [
    "# Created on 11/11/22 at 2:57 PM\n",
    "\n",
    "\n",
    "\"\"\"\n",
    "this script uses xgb as a classifier to predict various output\n",
    "\n",
    "\n",
    "\"\"\"\n",
    "\n",
    "# %%\n",
    "\n",
    "import jupyter_black\n",
    "\n",
    "\n",
    "jupyter_black.load()\n",
    "import sys\n",
    "import numpy as np\n",
    "import matplotlib\n",
    "from matplotlib import pyplot as plt\n",
    "from matplotlib import interactive\n",
    "\n",
    "\n",
    "interactive(True)\n",
    "import pandas as pd\n",
    "import numpy as np\n",
    "import os\n",
    "import hdf5storage\n",
    "import random\n",
    "from sklearn.metrics import r2_score\n",
    "import pickle\n",
    "import matplotlib\n",
    "from matplotlib.gridspec import GridSpec\n",
    "from scipy.io import savemat\n",
    "import shutil\n",
    "import os\n",
    "from configparser import ConfigParser\n",
    "from sklearn.metrics import confusion_matrix, ConfusionMatrixDisplay\n",
    "import seaborn as sns\n",
    "import time\n",
    "\n",
    "from matplotlib.ticker import MaxNLocator\n",
    "import matplotlib.patches as mpatches\n",
    "import timeop\n",
    "\n",
    "plt.rcParams.update({\"font.size\": 18})\n",
    "colors = sns.color_palette(\"deep\")\n",
    "sns.set(style=\"whitegrid\")\n",
    "# local pacakges"
   ]
  },
  {
   "cell_type": "code",
   "execution_count": 3,
   "id": "7b965944-6215-4b5b-b4be-f3d102939453",
   "metadata": {
    "tags": []
   },
   "outputs": [
    {
     "name": "stdout",
     "output_type": "stream",
     "text": [
      "100\n",
      "250\n",
      "50\n",
      "500\n"
     ]
    }
   ],
   "source": [
    "# load data\n",
    "\n",
    "\n",
    "def loadsubjdict(fnames):\n",
    "    datadict = hdf5storage.loadmat(fnames)\n",
    "    return datadict\n",
    "\n",
    "\n",
    "masktrial = []\n",
    "respall = []\n",
    "sequenceall = np.empty((0, 30))\n",
    "rtall = []\n",
    "sidall = []\n",
    "Count = []\n",
    "\n",
    "for cond in [100, 250, 50, 500]:\n",
    "    print(cond)\n",
    "\n",
    "    projectdir = \"/home/jenny/evidence-chain/\"\n",
    "    filename = \"/ssd/rwchain-all/round2/rwchain-beh/combined/all_\" + str(cond) + \".mat\"\n",
    "    datadict = hdf5storage.loadmat(filename)\n",
    "\n",
    "    masktrial.extend(datadict[\"masktrial\"])\n",
    "    respall.extend(datadict[\"resp\"])\n",
    "    sequenceall = np.vstack((sequenceall, datadict[\"sequence\"]))\n",
    "    rtall.extend(datadict[\"rt\"])\n",
    "    rtadjusted = datadict[\"rt\"] - 300\n",
    "    count = np.zeros_like(datadict[\"rt\"])\n",
    "    val, m = divmod(rtadjusted, cond)\n",
    "    count[m == 0] = val[m == 0]  # it's exacly at the onset of the new stimulus,\n",
    "    # we say they made a decisiona after seeing th previous ones\n",
    "    count[m > 0] = val[m > 0] + 1  # count is the last display that would count\n",
    "    # count =3 means they have seen display 0, 1, 2.\n",
    "\n",
    "    count[count >= 30] = 30\n",
    "    Count.extend(count)\n",
    "    sidall.extend(datadict[\"sidall\"])"
   ]
  },
  {
   "cell_type": "code",
   "execution_count": 4,
   "id": "c1b477d3-3791-45ef-b688-958b41992192",
   "metadata": {
    "tags": []
   },
   "outputs": [],
   "source": [
    "masktrial = np.array(masktrial)\n",
    "respall = np.array(respall)\n",
    "# sequenceall = np.array(sequenceall)\n",
    "rtall = np.array(rtall)\n",
    "sidall = np.array(sidall)"
   ]
  },
  {
   "cell_type": "code",
   "execution_count": null,
   "id": "26f509c4-fbb5-4727-8408-c64af70681dd",
   "metadata": {},
   "outputs": [],
   "source": []
  }
 ],
 "metadata": {
  "kernelspec": {
   "display_name": "evidence-chain",
   "language": "python",
   "name": "evidence-chain"
  },
  "language_info": {
   "codemirror_mode": {
    "name": "ipython",
    "version": 3
   },
   "file_extension": ".py",
   "mimetype": "text/x-python",
   "name": "python",
   "nbconvert_exporter": "python",
   "pygments_lexer": "ipython3",
   "version": "3.9.13"
  }
 },
 "nbformat": 4,
 "nbformat_minor": 5
}
