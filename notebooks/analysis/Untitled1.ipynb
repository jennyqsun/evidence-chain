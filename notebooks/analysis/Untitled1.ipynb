{
 "cells": [
  {
   "cell_type": "code",
   "execution_count": 1,
   "id": "ef0a2c9f-7e4f-4184-bb43-fce9cd9093fa",
   "metadata": {},
   "outputs": [],
   "source": [
    "import numpy as np\n",
    "import pandas as pd\n",
    "import hdf5storage\n",
    "import os\n",
    "import matplotlib.pyplot as plt"
   ]
  },
  {
   "cell_type": "code",
   "execution_count": 2,
   "id": "878acd54-711e-444d-9fad-d9b2200e370f",
   "metadata": {},
   "outputs": [],
   "source": [
    "\n",
    "PROJECTDIR = \"/home/jenny/evidence-chain/\"\n",
    "FILEDIR = \"/ssd/rwchain-all/round2/rwchain-eeg/s103\"\n"
   ]
  },
  {
   "cell_type": "code",
   "execution_count": 3,
   "id": "70e51e03-06bb-475c-8498-a22d7c76b7ba",
   "metadata": {},
   "outputs": [],
   "source": [
    "flist = os.listdir(FILEDIR)\n",
    "flist = [i for i in flist if '_clean_' in i]\n",
    "\n"
   ]
  },
  {
   "cell_type": "code",
   "execution_count": 4,
   "id": "132ec698-d35e-4a96-92ca-5df308da7f82",
   "metadata": {},
   "outputs": [],
   "source": [
    "nsample_corr=[]\n",
    "for fname in flist:\n",
    "    f = f'{FILEDIR}/{fname}'\n",
    "    datadict = hdf5storage.loadmat(f)\n",
    "    datadict.keys()\n",
    "    s = pd.Series(datadict['df']['df_count'])\n",
    "    autocr = s.autocorr(lag=1)\n",
    "    \n",
    "    nsample_corr.append(autocr)\n",
    "    "
   ]
  },
  {
   "cell_type": "code",
   "execution_count": 5,
   "id": "3ad52738-03fa-43e0-9804-034d6c1ea431",
   "metadata": {},
   "outputs": [
    {
     "data": {
      "text/plain": [
       "['s103_clean_ses1_block9_250.mat',\n",
       " 's103_clean_ses2_block6_100.mat',\n",
       " 's103_clean_ses2_block0_100.mat',\n",
       " 's103_clean_ses1_block3_100.mat',\n",
       " 's103_clean_ses1_block6_250.mat',\n",
       " 's103_clean_ses2_block8_100.mat',\n",
       " 's103_clean_ses1_block4_250.mat',\n",
       " 's103_clean_ses1_block0_500.mat',\n",
       " 's103_clean_ses1_block5_100.mat',\n",
       " 's103_clean_ses2_block7_250.mat',\n",
       " 's103_clean_ses1_block2_250.mat',\n",
       " 's103_clean_ses2_block5_500.mat',\n",
       " 's103_clean_ses2_block4_250.mat',\n",
       " 's103_clean_ses1_block1_50.mat',\n",
       " 's103_clean_ses2_block9_250.mat',\n",
       " 's103_clean_ses2_block1_250.mat',\n",
       " 's103_clean_ses2_block3_100.mat',\n",
       " 's103_clean_ses1_block7_100.mat',\n",
       " 's103_clean_ses1_block8_100.mat',\n",
       " 's103_clean_ses2_block2_50.mat']"
      ]
     },
     "execution_count": 5,
     "metadata": {},
     "output_type": "execute_result"
    }
   ],
   "source": [
    "flist"
   ]
  },
  {
   "cell_type": "code",
   "execution_count": 6,
   "id": "23ce6748-2676-4774-a889-538638592a96",
   "metadata": {},
   "outputs": [
    {
     "data": {
      "text/plain": [
       "'250'"
      ]
     },
     "execution_count": 6,
     "metadata": {},
     "output_type": "execute_result"
    }
   ],
   "source": [
    "flist[0].rsplit(\".\")[0].rsplit(\"_\")[-1]"
   ]
  },
  {
   "cell_type": "code",
   "execution_count": 7,
   "id": "2fbd42c6-dd35-4b6a-8793-a599003b79b5",
   "metadata": {},
   "outputs": [],
   "source": [
    "# sort the subjects based on conditon\n",
    "flist =sorted(flist, key=lambda x : int(x.rsplit(\".\")[0].rsplit(\"_\")[-1]))"
   ]
  },
  {
   "cell_type": "code",
   "execution_count": 10,
   "id": "5d44cbfc-9ab1-4441-81b9-4063b88cac95",
   "metadata": {},
   "outputs": [
    {
     "data": {
      "text/plain": [
       "['s103_clean_ses1_block1_50.mat',\n",
       " 's103_clean_ses2_block2_50.mat',\n",
       " 's103_clean_ses2_block6_100.mat',\n",
       " 's103_clean_ses2_block0_100.mat',\n",
       " 's103_clean_ses1_block3_100.mat',\n",
       " 's103_clean_ses2_block8_100.mat',\n",
       " 's103_clean_ses1_block5_100.mat',\n",
       " 's103_clean_ses2_block3_100.mat',\n",
       " 's103_clean_ses1_block7_100.mat',\n",
       " 's103_clean_ses1_block8_100.mat',\n",
       " 's103_clean_ses1_block9_250.mat',\n",
       " 's103_clean_ses1_block6_250.mat',\n",
       " 's103_clean_ses1_block4_250.mat',\n",
       " 's103_clean_ses2_block7_250.mat',\n",
       " 's103_clean_ses1_block2_250.mat',\n",
       " 's103_clean_ses2_block4_250.mat',\n",
       " 's103_clean_ses2_block9_250.mat',\n",
       " 's103_clean_ses2_block1_250.mat',\n",
       " 's103_clean_ses1_block0_500.mat',\n",
       " 's103_clean_ses2_block5_500.mat']"
      ]
     },
     "execution_count": 10,
     "metadata": {},
     "output_type": "execute_result"
    }
   ],
   "source": [
    "flist"
   ]
  },
  {
   "cell_type": "code",
   "execution_count": 11,
   "id": "35a9b0e5-0ad5-469e-a4c0-5fd9c538db45",
   "metadata": {},
   "outputs": [
    {
     "ename": "NameError",
     "evalue": "name 'nsample_list' is not defined",
     "output_type": "error",
     "traceback": [
      "\u001b[0;31m---------------------------------------------------------------------------\u001b[0m",
      "\u001b[0;31mNameError\u001b[0m                                 Traceback (most recent call last)",
      "\u001b[0;32m<ipython-input-11-fb7633a4a721>\u001b[0m in \u001b[0;36m<module>\u001b[0;34m\u001b[0m\n\u001b[1;32m      5\u001b[0m     \u001b[0ms\u001b[0m \u001b[0;34m=\u001b[0m \u001b[0mpd\u001b[0m\u001b[0;34m.\u001b[0m\u001b[0mSeries\u001b[0m\u001b[0;34m(\u001b[0m\u001b[0mdatadict\u001b[0m\u001b[0;34m[\u001b[0m\u001b[0;34m'df'\u001b[0m\u001b[0;34m]\u001b[0m\u001b[0;34m[\u001b[0m\u001b[0;34m'df_count'\u001b[0m\u001b[0;34m]\u001b[0m\u001b[0;34m)\u001b[0m\u001b[0;34m\u001b[0m\u001b[0;34m\u001b[0m\u001b[0m\n\u001b[1;32m      6\u001b[0m     \u001b[0mautocr\u001b[0m \u001b[0;34m=\u001b[0m \u001b[0ms\u001b[0m\u001b[0;34m.\u001b[0m\u001b[0mautocorr\u001b[0m\u001b[0;34m(\u001b[0m\u001b[0mlag\u001b[0m\u001b[0;34m=\u001b[0m\u001b[0;36m1\u001b[0m\u001b[0;34m)\u001b[0m\u001b[0;34m\u001b[0m\u001b[0;34m\u001b[0m\u001b[0m\n\u001b[0;32m----> 7\u001b[0;31m     \u001b[0mnsample_list\u001b[0m\u001b[0;34m.\u001b[0m\u001b[0mappend\u001b[0m\u001b[0;34m(\u001b[0m\u001b[0mautocr\u001b[0m\u001b[0;34m)\u001b[0m\u001b[0;34m\u001b[0m\u001b[0;34m\u001b[0m\u001b[0m\n\u001b[0m\u001b[1;32m      8\u001b[0m \u001b[0;34m\u001b[0m\u001b[0m\n\u001b[1;32m      9\u001b[0m     \u001b[0mind\u001b[0m \u001b[0;34m=\u001b[0m \u001b[0mdatadict\u001b[0m\u001b[0;34m[\u001b[0m\u001b[0;34m'df'\u001b[0m\u001b[0;34m]\u001b[0m\u001b[0;34m[\u001b[0m\u001b[0;34m'df_count'\u001b[0m\u001b[0;34m]\u001b[0m\u001b[0;34m\u001b[0m\u001b[0;34m\u001b[0m\u001b[0m\n",
      "\u001b[0;31mNameError\u001b[0m: name 'nsample_list' is not defined"
     ]
    }
   ],
   "source": [
    "bound_corr=[]\n",
    "for fname in flist:\n",
    "    f = f'{FILEDIR}/{fname}'\n",
    "    datadict = hdf5storage.loadmat(f)\n",
    "    s = pd.Series(datadict['df']['df_count'])\n",
    "    autocr = s.autocorr(lag=1)\n",
    "    bound_corr.append(autocr)\n",
    "\n",
    "    ind = datadict['df']['df_count']\n",
    "    data_seq = np.array(datadict['df']['df_sequence'])\n",
    "    all_bound= []\n",
    "    for i in range(0,30):\n",
    "        seq = data_seq[i,:][:ind[i]]\n",
    "        bound = np.cumsum(seq)\n",
    "        all_bound.append(np.abs(bound[-1]))\n",
    "        s = pd.Series(all_bound)\n",
    "    autocr = s.autocorr(lag=1)\n",
    "    bound_corr.append(autocr)\n",
    "    print(autocr)\n",
    "    print(fname)\n"
   ]
  },
  {
   "cell_type": "code",
   "execution_count": 12,
   "id": "0891db86-30ac-4173-9bb9-b690bc8f78b0",
   "metadata": {},
   "outputs": [
    {
     "data": {
      "text/plain": [
       "[0.44834682971720435,\n",
       " 0.47121300970419605,\n",
       " 0.3606845279804879,\n",
       " 0.04330320921859425,\n",
       " 0.17560959304141008,\n",
       " 0.10137817300002376,\n",
       " 0.1942065611936871,\n",
       " 0.32306057385759757,\n",
       " 0.30993696695038464,\n",
       " 0.21048242773758588,\n",
       " 0.06728250947797595,\n",
       " 0.12245996308730482,\n",
       " 0.3457267798544723,\n",
       " 0.011455126943158783,\n",
       " 0.028714293196453952,\n",
       " 0.07625408074899417,\n",
       " -0.043463338672720495,\n",
       " 0.3398917948614219,\n",
       " 0.388649520581379,\n",
       " 0.1742005586650608]"
      ]
     },
     "execution_count": 12,
     "metadata": {},
     "output_type": "execute_result"
    }
   ],
   "source": [
    "nsample_corr"
   ]
  },
  {
   "cell_type": "code",
   "execution_count": null,
   "id": "bc9ad66d-402d-4f56-b0e3-884700c7c9d5",
   "metadata": {},
   "outputs": [],
   "source": []
  }
 ],
 "metadata": {
  "kernelspec": {
   "display_name": "echain",
   "language": "python",
   "name": "echain"
  },
  "language_info": {
   "codemirror_mode": {
    "name": "ipython",
    "version": 3
   },
   "file_extension": ".py",
   "mimetype": "text/x-python",
   "name": "python",
   "nbconvert_exporter": "python",
   "pygments_lexer": "ipython3",
   "version": "3.6.13"
  }
 },
 "nbformat": 4,
 "nbformat_minor": 5
}
